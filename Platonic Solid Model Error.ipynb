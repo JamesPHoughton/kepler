{
 "metadata": {
  "name": "",
  "signature": "sha256:33a214106ce340393f4c6c8fb5445ac6bb5672ee19a02357295239ed30fc9112"
 },
 "nbformat": 3,
 "nbformat_minor": 0,
 "worksheets": [
  {
   "cells": [
    {
     "cell_type": "markdown",
     "metadata": {},
     "source": [
      "# Analysis of Keplers' platonic solid model\n",
      "\n",
      "How wrong was he?\n",
      "\n",
      "\n",
      "\n",
      "Copernican and Modern measurements come from:\n",
      "[Orbital Mechanics: Theory and Applications\n",
      " By Tom Logsdon pg 6](http://books.google.co.uk/books?id=C70gQI5ayEAC&lpg=PA4&ots=eYEiU-FLTO&dq=copernicus%20orbital%20radius&pg=PA6#v=onepage&q&f=false)\n",
      "\n",
      "Kepler's predictions come from:\n",
      "[Wolfram Alpha: Kepler's Mysterium Cosmographicum](http://demonstrations.wolfram.com/KeplersMysteriumCosmographicum/)"
     ]
    },
    {
     "cell_type": "code",
     "collapsed": false,
     "input": [
      "import pandas as pd"
     ],
     "language": "python",
     "metadata": {},
     "outputs": [],
     "prompt_number": 1
    },
    {
     "cell_type": "code",
     "collapsed": false,
     "input": [
      "planets = ['Mercury', 'Venus', 'Earth', 'Mars', 'Jupiter', 'Saturn']\n",
      "\n",
      "copernican_measurements = pd.Series(data = [.38, .72, 1, 1.52, 5.22, 9.07], index=planets)\n",
      "platonic_predictions = pd.Series(data = [.408, .795, 1, 1.258, 3.775, 6.539], index=planets)\n",
      "modern_measurements = pd.Series(data = [.39, .72, 1, 1.52, 5.2, 9.54], index=planets)\n",
      "\n",
      "copernican_error = copernican_measurements - platonic_predictions\n",
      "modern_error = modern_measurements - platonic_predictions"
     ],
     "language": "python",
     "metadata": {},
     "outputs": [],
     "prompt_number": 6
    },
    {
     "cell_type": "code",
     "collapsed": false,
     "input": [
      "sum_linear_error = (platonic_predictions - copernican_measurements).sum()\n",
      "print 'sum linear', sum_linear_error\n",
      "\n",
      "mean_linear_error = (platonic_predictions - copernican_measurements).mean()\n",
      "print 'mean linear', mean_linear_error\n",
      "\n",
      "sum_sqared_error = ((platonic_predictions - copernican_measurements)**2).sum()\n",
      "print 'sum squared', sum_sqared_error\n",
      "\n",
      "mean_sqared_error = ((platonic_predictions - copernican_measurements)**2).mean()\n",
      "print 'mean squared', mean_sqared_error\n",
      "\n",
      "root_mean_sqared_error = sqrt(((platonic_predictions - copernican_measurements)**2).mean())\n",
      "print 'root mean squared', root_mean_sqared_error"
     ],
     "language": "python",
     "metadata": {},
     "outputs": [
      {
       "output_type": "stream",
       "stream": "stdout",
       "text": [
        "sum linear -4.135\n",
        "mean linear -0.689166666667\n",
        "sum squared 8.569039\n",
        "mean squared 1.42817316667\n",
        "root mean squared 1.19506199281\n"
       ]
      }
     ],
     "prompt_number": 29
    },
    {
     "cell_type": "code",
     "collapsed": false,
     "input": [
      "#copernicus vs modern\n",
      "root_mean_sqared_error = sqrt(((copernican_measurements - modern_measurements)**2).mean())\n",
      "print 'root mean squared', root_mean_sqared_error"
     ],
     "language": "python",
     "metadata": {},
     "outputs": [
      {
       "output_type": "stream",
       "stream": "stdout",
       "text": [
        "root mean squared 0.192093727123\n"
       ]
      }
     ],
     "prompt_number": 4
    },
    {
     "cell_type": "code",
     "collapsed": false,
     "input": [
      "# compare kepler with copernicus, and modern measures\n",
      "\n",
      "plt.figure(figsize=(10,10))\n",
      "\n",
      "plt.subplot2grid(shape=(5,1), loc=(0,0), rowspan=4)\n",
      "plt.box('off')\n",
      "#plt.xticks([])\n",
      "plt.ylabel('Mean Orbit Radius', fontsize=18)\n",
      "\n",
      "x_cols = [-4.0, 0., 4.0]\n",
      "\n",
      "#draw the boxes. Dont know why they wont show up.\n",
      "for platonic, modern, error in zip(platonic_predictions, modern_measurements, modern_error):\n",
      "    gca().add_patch(Rectangle((.5*x_cols[2]-.5*error,platonic), width=error, height=error, \n",
      "                            fill=True,  color='b', alpha=.5))\n",
      "\n",
      "for platonic, modern, error in zip(platonic_predictions, copernican_measurements, copernican_error):\n",
      "    gca().add_patch(Rectangle((.5*x_cols[0]-.5*error,platonic), width=error, height=error, \n",
      "                            fill=True,  color='r', alpha=.5))\n",
      "\n",
      "arrowprops = dict(arrowstyle=\"-\", linewidth = 0.75, color = 'black')\n",
      "    \n",
      "#mark the labels\n",
      "for planet, radius in zip(copernican_measurements.index, copernican_measurements):\n",
      "    plt.annotate(planet, xy=(.5*x_cols[0],radius), xytext=(x_cols[0],radius), \n",
      "                 fontsize=18, ha='center', va='center', \n",
      "                 arrowprops=arrowprops)\n",
      "\n",
      "for planet, radius in zip(platonic_predictions.index, platonic_predictions):\n",
      "    plt.annotate(planet, xy=(.5*x_cols[0],radius), xytext=(x_cols[1],radius), \n",
      "                 fontsize=18, ha='center', va='center',\n",
      "                 arrowprops=arrowprops)\n",
      "\n",
      "for planet, radius in zip(modern_measurements.index, modern_measurements):\n",
      "    plt.annotate(planet, xy=(.5*x_cols[2],radius), xytext=(x_cols[2],radius), \n",
      "                 fontsize=18, ha='center', va='center',\n",
      "                 arrowprops=arrowprops)\n",
      "\n",
      "\n",
      "#gca().add_patch(Rectangle((1,1),1,1))    \n",
      "    \n",
      "plt.ylim(0,9)\n",
      "plt.axis('equal')\n",
      "plt.suptitle('Copernicus Measurement     Kepler Predictions     Modern Measurement', fontsize=18)\n",
      "\n",
      "### summations\n",
      "plt.subplot2grid(shape=(5,1), loc=(4,0), rowspan=1)\n",
      "plt.box('off')\n",
      "plt.xticks([])\n",
      "plt.yticks([])\n",
      "plt.plot([0,0],[1,1])\n",
      "plt.ylabel('Sum', fontsize=18)\n"
     ],
     "language": "python",
     "metadata": {},
     "outputs": [
      {
       "metadata": {},
       "output_type": "pyout",
       "prompt_number": 8,
       "text": [
        "<matplotlib.text.Text at 0x1048335d0>"
       ]
      },
      {
       "metadata": {},
       "output_type": "display_data",
       "png": "[encoded data removed]",
       "text": [
        "<matplotlib.figure.Figure at 0x1047976d0>"
       ]
      }
     ],
     "prompt_number": 8
    },
    {
     "cell_type": "code",
     "collapsed": false,
     "input": [
      "#Maybe now add the normal error measurements\n",
      "\n",
      "plt.figure(figsize=(6,10))\n",
      "\n",
      "ax1 = plt.subplot()\n",
      "ax1.set_frame_on(False)\n",
      "ax1.set_xticks([])\n",
      "\n",
      "x_cols = [-6.5, 0., 5.0]\n",
      "\n",
      "for platonic, modern, error in zip(platonic_predictions, copernican_measurements, copernican_error):\n",
      "    ax1.add_patch(Rectangle((.5*x_cols[0]-.5*error,platonic), width=error, height=error, \n",
      "                            fill=True,  color='r', alpha=.5))\n",
      "\n",
      "arrowprops = dict(arrowstyle=\"-\", linewidth = 0.75, color = 'black')\n",
      "    \n",
      "#mark the labels\n",
      "for planet, radius in zip(copernican_measurements.index, copernican_measurements):\n",
      "    plt.annotate(planet+': '+str(radius), xy=(.5*x_cols[0],radius), xytext=(x_cols[0],radius), \n",
      "                 fontsize=18, ha='left', va='center', \n",
      "                 arrowprops=arrowprops)\n",
      "\n",
      "for planet, radius in zip(platonic_predictions.index, platonic_predictions):\n",
      "    plt.annotate(planet+': '+str(radius), xy=(.5*x_cols[0],radius), xytext=(x_cols[1],radius), \n",
      "                 fontsize=18, ha='right', va='center',\n",
      "                 arrowprops=arrowprops)\n",
      "    \n",
      "for platonic, copernican in zip(platonic_predictions, copernican_measurements):\n",
      "    plt.plot([.5*x_cols[0],.5*x_cols[0]], [platonic, copernican], 'k--' )\n",
      "\n",
      "\n",
      "ax1.set_yticks([])\n",
      "ax1.set_ylim(0,9)\n",
      "ax1.axis('equal');\n"
     ],
     "language": "python",
     "metadata": {},
     "outputs": [
      {
       "metadata": {},
       "output_type": "display_data",
       "png": "[encoded data removed]",
       "text": [
        "<matplotlib.figure.Figure at 0x104f76ed0>"
       ]
      }
     ],
     "prompt_number": 13
    },
    {
     "cell_type": "code",
     "collapsed": false,
     "input": [
      "#Only compare kepler with copernicus\n",
      "\n",
      "plt.figure(figsize=(6,10))\n",
      "cla()\n",
      "\n",
      "ax1 = plt.subplot()\n",
      "ax1.set_frame_on(False)\n",
      "#ax1.set_xticks([])\n",
      "#ax1.set_yticks([])\n",
      "sse = ax1.add_patch(Rectangle((0,1), width=2*root_mean_sqared_error, height=3*root_mean_sqared_error, \n",
      "                            fill=True,  color='r', alpha=.5))\n",
      "\n",
      "mse = ax1.add_patch(Rectangle((0,1), width=root_mean_sqared_error, height=root_mean_sqared_error, \n",
      "                            fill=False,  color='k', alpha=1))\n",
      "\n",
      "ax1.add_patch(Rectangle((0+root_mean_sqared_error,1), width=root_mean_sqared_error, height=root_mean_sqared_error, \n",
      "                            fill=False,  color='k', alpha=1))\n",
      "\n",
      "ax1.add_patch(Rectangle((0,1+root_mean_sqared_error), \n",
      "                        width=root_mean_sqared_error, height=root_mean_sqared_error, \n",
      "                            fill=False,  color='k', alpha=1))\n",
      "\n",
      "ax1.add_patch(Rectangle((0+root_mean_sqared_error,1+root_mean_sqared_error), \n",
      "                        width=root_mean_sqared_error, height=root_mean_sqared_error, \n",
      "                            fill=False,  color='k', alpha=1))\n",
      "\n",
      "\n",
      "ax1.add_patch(Rectangle((0,1+2*root_mean_sqared_error), width=root_mean_sqared_error, height=root_mean_sqared_error, \n",
      "                            fill=False,  color='k', alpha=1))\n",
      "\n",
      "ax1.add_patch(Rectangle((0+root_mean_sqared_error,1+2*root_mean_sqared_error), \n",
      "                        width=root_mean_sqared_error, height=root_mean_sqared_error, \n",
      "                            fill=False,  color='k', alpha=1))\n",
      "\n",
      "rmse = plt.plot([0,root_mean_sqared_error],[.9,.9], '-b', marker='o')\n",
      "\n",
      "plt.legend((sse, mse, rmse), \n",
      "           ('Sum of Squared Error', 'Mean Squared Error', 'Root Mean Squared Error'))\n",
      "\n",
      "\n",
      "\n",
      "plt.axis('equal')\n",
      "plt.ylim(0,9)\n",
      "\n",
      "\n"
     ],
     "language": "python",
     "metadata": {},
     "outputs": [
      {
       "output_type": "stream",
       "stream": "stderr",
       "text": [
        "/Users/houghtons/Downloads/matplotlib/lib/matplotlib/legend.py:613: UserWarning: Legend does not support [<matplotlib.lines.Line2D object at 0x104f7ac10>]\n",
        "Use proxy artist instead.\n",
        "\n",
        "http://matplotlib.sourceforge.net/users/legend_guide.html#using-proxy-artist\n",
        "\n",
        "  (str(orig_handle),))\n"
       ]
      },
      {
       "metadata": {},
       "output_type": "pyout",
       "prompt_number": 26,
       "text": [
        "(0, 9)"
       ]
      },
      {
       "metadata": {},
       "output_type": "display_data",
       "png": "[encoded data removed]",
       "text": [
        "<matplotlib.figure.Figure at 0x104f5bb10>"
       ]
      }
     ],
     "prompt_number": 26
    },
    {
     "cell_type": "markdown",
     "metadata": {},
     "source": [
      "### Theil Statistics:\n",
      "    \n",
      "note that the way scipy calculates the std dev is different from that used in stermans theil statistics paper. Its irrelevant with large datasets, but with small data, makes a difference."
     ]
    },
    {
     "cell_type": "code",
     "collapsed": false,
     "input": [
      "#calculate bias component\n",
      "\n",
      "bias = ((platonic_predictions.mean() - copernican_measurements.mean())**2)/mean_sqared_error\n",
      "bias"
     ],
     "language": "python",
     "metadata": {},
     "outputs": [
      {
       "metadata": {},
       "output_type": "pyout",
       "prompt_number": 33,
       "text": [
        "0.33255819779401913"
       ]
      }
     ],
     "prompt_number": 33
    },
    {
     "cell_type": "code",
     "collapsed": false,
     "input": [
      "#calculate the variance component\n",
      "\n",
      "# the standard deviation in scipy uses a different normalization than we want, so calculate our own.\n",
      "std_platonic = sqrt(((platonic_predictions-platonic_predictions.mean())**2).mean())\n",
      "std_copernican = sqrt(((copernican_measurements-copernican_measurements.mean())**2).mean())\n",
      "\n",
      "#variance component\n",
      "variance = (std_platonic - std_copernican)**2/mean_sqared_error\n",
      "variance"
     ],
     "language": "python",
     "metadata": {},
     "outputs": [
      {
       "metadata": {},
       "output_type": "pyout",
       "prompt_number": 38,
       "text": [
        "0.66341051413639607"
       ]
      }
     ],
     "prompt_number": 38
    },
    {
     "cell_type": "code",
     "collapsed": false,
     "input": [
      "# calculate the correlation component\n",
      "\n",
      "corrcoef = np.corrcoef(platonic_predictions, copernican_measurements).min()\n",
      "\n",
      "correlation = 2*(1-corrcoef)*std_platonic*std_copernican\n",
      "correlation"
     ],
     "language": "python",
     "metadata": {},
     "outputs": [
      {
       "metadata": {},
       "output_type": "pyout",
       "prompt_number": 42,
       "text": [
        "0.0057573774480853511"
       ]
      }
     ],
     "prompt_number": 42
    },
    {
     "cell_type": "code",
     "collapsed": false,
     "input": [
      "#check that they sum (close) to 1\n",
      "variance + bias + correlation"
     ],
     "language": "python",
     "metadata": {},
     "outputs": [
      {
       "metadata": {},
       "output_type": "pyout",
       "prompt_number": 43,
       "text": [
        "1.0017260893785005"
       ]
      }
     ],
     "prompt_number": 43
    },
    {
     "cell_type": "markdown",
     "metadata": {},
     "source": [
      "#### plot bias error"
     ]
    },
    {
     "cell_type": "code",
     "collapsed": false,
     "input": [
      "#Maybe now add the normal error measurements\n",
      "\n",
      "plt.figure(figsize=(6,10))\n",
      "\n",
      "ax1 = plt.subplot()\n",
      "ax1.set_frame_on(False)\n",
      "ax1.set_xticks([])\n",
      "\n",
      "x_cols = [-6.5, 0., 5.0]\n",
      "\n",
      "arrowprops = dict(arrowstyle=\"-\", linewidth = 0.75, color = 'black', alpha=0)\n",
      "    \n",
      "#mark the labels\n",
      "for planet, radius in zip(copernican_measurements.index, copernican_measurements):\n",
      "    plt.annotate(planet+': '+str(radius), xy=(.5*x_cols[0],radius), xytext=(x_cols[0],radius), \n",
      "                 fontsize=18, ha='left', va='center', alpha=.5, \n",
      "                 arrowprops=arrowprops)\n",
      "\n",
      "for planet, radius in zip(platonic_predictions.index, platonic_predictions):\n",
      "    plt.annotate(planet+': '+str(radius), xy=(.5*x_cols[0],radius), xytext=(x_cols[1],radius), \n",
      "                 fontsize=18, ha='right', va='center', alpha=.5,\n",
      "                 arrowprops=arrowprops)\n",
      "    \n",
      "#leave this in a sa kludgey way to keep the box the right shape    \n",
      "for platonic, copernican in zip(platonic_predictions, copernican_measurements):\n",
      "    plt.plot([.5*x_cols[0],.5*x_cols[0]], [platonic, copernican], 'k--', alpha=0 )\n",
      "\n",
      "arrowprops = dict(arrowstyle=\"-\", linewidth = 0.75, color = 'black', alpha=1)\n",
      "\n",
      "plt.annotate('mean', xy=(.5*x_cols[0],copernican_measurements.mean()), \n",
      "             xytext=(x_cols[0],copernican_measurements.mean()), \n",
      "                 fontsize=18, ha='left', va='center', alpha=1,\n",
      "                 arrowprops=arrowprops)\n",
      "\n",
      "plt.annotate('mean', xy=(.5*x_cols[0],platonic_predictions.mean()), \n",
      "             xytext=(x_cols[1],platonic_predictions.mean()), \n",
      "                 fontsize=18, ha='right', va='center', alpha=1,\n",
      "                 arrowprops=arrowprops)\n",
      "    \n",
      "error = platonic_predictions.mean() - copernican_measurements.mean()\n",
      "ax1.add_patch(Rectangle((.5*x_cols[0]-.5*error,copernican_measurements.mean()), width=error, height=error, \n",
      "                            fill=True,  color='b', alpha=.5))    \n",
      "    \n",
      "ax1.set_yticks([])\n",
      "ax1.set_ylim(0,9)\n",
      "ax1.axis('equal')"
     ],
     "language": "python",
     "metadata": {},
     "outputs": [
      {
       "metadata": {},
       "output_type": "pyout",
       "prompt_number": 46,
       "text": [
        "(-3.594583333333333, -2.9054166666666665, 0.38, 9.0700000000000003)"
       ]
      },
      {
       "metadata": {},
       "output_type": "display_data",
       "png": "[encoded data removed]",
       "text": [
        "<matplotlib.figure.Figure at 0x104725310>"
       ]
      }
     ],
     "prompt_number": 46
    },
    {
     "cell_type": "markdown",
     "metadata": {},
     "source": [
      "### Plot the variance component"
     ]
    },
    {
     "cell_type": "code",
     "collapsed": false,
     "input": [
      "#Maybe now add the normal error measurements\n",
      "\n",
      "plt.figure(figsize=(6,10))\n",
      "\n",
      "ax1 = plt.subplot()\n",
      "ax1.set_frame_on(False)\n",
      "ax1.set_xticks([])\n",
      "\n",
      "x_cols = [-6.5, 0., 5.0]\n",
      "\n",
      "\n",
      "arrowprops = dict(arrowstyle=\"-\", linewidth = 0.75, color = 'black', alpha=0)\n",
      "    \n",
      "#mark the labels\n",
      "for planet, radius in zip(copernican_measurements.index, copernican_measurements):\n",
      "    plt.annotate(planet+': '+str(radius), xy=(.5*x_cols[0],radius), xytext=(x_cols[0],radius), \n",
      "                 fontsize=18, ha='left', va='center', alpha=.25, \n",
      "                 arrowprops=arrowprops)\n",
      "\n",
      "for planet, radius in zip(platonic_predictions.index, platonic_predictions):\n",
      "    plt.annotate(planet+': '+str(radius), xy=(.5*x_cols[0],radius), xytext=(x_cols[1],radius), \n",
      "                 fontsize=18, ha='right', va='center', alpha=.25,\n",
      "                 arrowprops=arrowprops)\n",
      "    \n",
      "#leave this in as a kludgey way to keep the box the right shape    \n",
      "for platonic, copernican in zip(platonic_predictions, copernican_measurements):\n",
      "    plt.plot([.5*x_cols[0],.5*x_cols[0]], [platonic, copernican], 'k--', alpha=0 )\n",
      "\n",
      "arrowprops = dict(arrowstyle=\"-\", linewidth = 0.75, color = 'black', alpha=0.25)\n",
      "\n",
      "plt.annotate('mean', xy=(.7*x_cols[0],copernican_measurements.mean()), \n",
      "             xytext=(x_cols[0],copernican_measurements.mean()), \n",
      "                 fontsize=18, ha='left', va='center', alpha=1,\n",
      "                 arrowprops=arrowprops)\n",
      "\n",
      "plt.annotate('mean', xy=(.3*x_cols[0],platonic_predictions.mean()), \n",
      "             xytext=(x_cols[1],platonic_predictions.mean()), \n",
      "                 fontsize=18, ha='right', va='center', alpha=1,\n",
      "                 arrowprops=arrowprops)\n",
      "\n",
      "\n",
      "plt.annotate('+1 std', xy=(.3*x_cols[0],platonic_predictions.mean()+std_platonic), \n",
      "             xytext=(x_cols[1],platonic_predictions.mean()+std_platonic), \n",
      "                 fontsize=18, ha='right', va='center', alpha=1,\n",
      "                 arrowprops=arrowprops)\n",
      "\n",
      "plt.annotate('+1 std', xy=(.7*x_cols[0],copernican_measurements.mean()+std_copernican), \n",
      "             xytext=(x_cols[0],copernican_measurements.mean()+std_copernican), \n",
      "                 fontsize=18, ha='left', va='center', alpha=1,\n",
      "                 arrowprops=arrowprops)\n",
      "\n",
      "\n",
      "#copernican std dev\n",
      "plt.plot([.7*x_cols[0],.7*x_cols[0]], [copernican_measurements.mean()-std_copernican,\n",
      "                                       copernican_measurements.mean()+std_copernican], \n",
      "         'k-', alpha=.25, linewidth=4)\n",
      "\n",
      "plt.plot([.3*x_cols[0],.3*x_cols[0]], [platonic_predictions.mean()-std_platonic,\n",
      "                                       platonic_predictions.mean()+std_platonic], \n",
      "         'k-', alpha=.25, linewidth=4)\n",
      "\n",
      "#black copernican std dev\n",
      "plt.plot([.65*x_cols[0],.65*x_cols[0]], [5, 5+std_copernican], \n",
      "         'k-', alpha=1, linewidth=4)\n",
      "\n",
      "# black platonic std dev\n",
      "plt.plot([.35*x_cols[0],.35*x_cols[0]], [5, 5+std_platonic], \n",
      "         'k-', alpha=1, linewidth=4)\n",
      "\n",
      "# square error\n",
      "error = std_platonic-std_copernican\n",
      "ax1.add_patch(Rectangle((.5*x_cols[0]-.5*error,5+std_copernican), width=error, height=error, \n",
      "                            fill=True,  color='g', alpha=.5))  \n",
      "\n",
      "# guide lines\n",
      "plt.plot([.7*x_cols[0],.65*x_cols[0]], [copernican_measurements.mean(), 5], \n",
      "         'k-', alpha=.25, linewidth=2)\n",
      "\n",
      "plt.plot([.7*x_cols[0],.65*x_cols[0]], [copernican_measurements.mean()+std_copernican, 5+std_copernican], \n",
      "         'k-', alpha=.25, linewidth=2)\n",
      "\n",
      "plt.plot([.3*x_cols[0],.35*x_cols[0]], [platonic_predictions.mean(), 5], \n",
      "         'k-', alpha=.25, linewidth=2)\n",
      "\n",
      "plt.plot([.3*x_cols[0],.35*x_cols[0]], [platonic_predictions.mean()+std_platonic, 5+std_platonic], \n",
      "         'k-', alpha=.25, linewidth=2)\n",
      "\n",
      "plt.plot([.65*x_cols[0],.5*x_cols[0]], \n",
      "         [5+std_copernican, 5+std_copernican], \n",
      "         'k-', alpha=.25, linewidth=1)\n",
      "\n",
      "plt.plot([.35*x_cols[0],.5*x_cols[0]], \n",
      "         [5+std_platonic, 5+std_platonic], \n",
      "         'k-', alpha=.25, linewidth=1)\n",
      "\n",
      "ax1.set_yticks([])\n",
      "ax1.set_ylim(0,9)\n",
      "ax1.axis('equal');"
     ],
     "language": "python",
     "metadata": {},
     "outputs": [
      {
       "metadata": {},
       "output_type": "display_data",
       "png": "[encoded data removed]",
       "text": [
        "<matplotlib.figure.Figure at 0x104f2dfd0>"
       ]
      }
     ],
     "prompt_number": 50
    },
    {
     "cell_type": "markdown",
     "metadata": {},
     "source": [
      "### Show how each error relates to the mse"
     ]
    },
    {
     "cell_type": "code",
     "collapsed": false,
     "input": [
      "#Draw the boxes for the side\n",
      "\n",
      "plt.figure(figsize=(6,10))\n",
      "cla()\n",
      "\n",
      "ax1 = plt.subplot()\n",
      "ax1.set_frame_on(False)\n",
      "\n",
      "ax1.add_patch(Rectangle((0,1), width=root_mean_sqared_error, height=root_mean_sqared_error, \n",
      "                            fill=False,  color='k', alpha=1))\n",
      "\n",
      "\n",
      "bias_error = (platonic_predictions.mean() - copernican_measurements.mean())**2\n",
      "\n",
      "ax1.add_patch(Rectangle((0,1), width=bias_error/root_mean_sqared_error, height=root_mean_sqared_error, \n",
      "                            fill=True,  color='b', alpha=.5))\n",
      "\n",
      "variance_error = (std_platonic-std_copernican)**2\n",
      "\n",
      "# comment this out to just get the bias error in the box\n",
      "ax1.add_patch(Rectangle((0+bias_error/root_mean_sqared_error,1), \n",
      "                        width=variance_error/root_mean_sqared_error, height=root_mean_sqared_error, \n",
      "                            fill=True,  color='g', alpha=.5))\n",
      "\n",
      "plt.axis('equal')\n",
      "plt.ylim(0,9);"
     ],
     "language": "python",
     "metadata": {},
     "outputs": [
      {
       "metadata": {},
       "output_type": "display_data",
       "png": "[encoded data removed]",
       "text": [
        "<matplotlib.figure.Figure at 0x1052b62d0>"
       ]
      }
     ],
     "prompt_number": 52
    },
    {
     "cell_type": "code",
     "collapsed": false,
     "input": [],
     "language": "python",
     "metadata": {},
     "outputs": []
    }
   ],
   "metadata": {}
  }
 ]
}